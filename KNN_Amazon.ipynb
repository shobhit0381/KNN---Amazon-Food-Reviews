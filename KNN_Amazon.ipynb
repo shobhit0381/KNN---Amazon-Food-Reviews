{
 "cells": [
  {
   "cell_type": "markdown",
   "metadata": {},
   "source": [
    "# Amazon Food Reviews - KNN Implementation - by Shobhit Gupta"
   ]
  },
  {
   "cell_type": "markdown",
   "metadata": {},
   "source": [
    "# 1) Introduction "
   ]
  },
  {
   "cell_type": "markdown",
   "metadata": {},
   "source": [
    "In this notebook, we will be performing polarity prediction of of a given food review text by applying KNN (K- Nearest Neigbour) algorithm. Before building the prediction model, first step is to clean the data as a part of data-preprocessing.\n",
    "\n",
    "We will perform following data preprocessing.\n",
    "\n",
    "-- Removing Stop-words\n",
    "\n",
    "-- Remove any punctuations or limited set of special characters.\n",
    "\n",
    "-- Removing HTML tags\n",
    "\n",
    "-- Stemming the word using Snowball Stemming\n",
    "\n",
    "-- Converting the words to lowercase\n",
    "\n",
    "### Objective: Given a review, determine whether it is +ve or -ve using KNN - algorithm and find the accuracy of the model"
   ]
  },
  {
   "cell_type": "markdown",
   "metadata": {},
   "source": [
    "# 2) Pre-processing and cleaning of data"
   ]
  },
  {
   "cell_type": "code",
   "execution_count": 2,
   "metadata": {},
   "outputs": [
    {
     "name": "stderr",
     "output_type": "stream",
     "text": [
      "C:\\Users\\Shobhit\\Anaconda3\\lib\\site-packages\\sklearn\\cross_validation.py:41: DeprecationWarning: This module was deprecated in version 0.18 in favor of the model_selection module into which all the refactored classes and functions are moved. Also note that the interface of the new CV iterators are different from that of this module. This module will be removed in 0.20.\n",
      "  \"This module will be removed in 0.20.\", DeprecationWarning)\n"
     ]
    }
   ],
   "source": [
    "# ============================== loading libraries for KNN ===========================================\n",
    "import numpy as np\n",
    "import pandas as pd\n",
    "import matplotlib.pyplot as plt\n",
    "from sklearn.cross_validation import train_test_split\n",
    "from sklearn.neighbors import KNeighborsClassifier\n",
    "from sklearn.metrics import accuracy_score\n",
    "from sklearn.cross_validation import cross_val_score\n",
    "from collections import Counter\n",
    "from sklearn.metrics import accuracy_score\n",
    "from sklearn import cross_validation\n",
    "# ============================================================================================="
   ]
  },
  {
   "cell_type": "code",
   "execution_count": 3,
   "metadata": {},
   "outputs": [],
   "source": [
    "# ======================== Loading libraries for pre-processing ====================================== #\n",
    "\n",
    "%matplotlib inline\n",
    "\n",
    "import sqlite3\n",
    "import nltk\n",
    "import string\n",
    "import seaborn as sns\n",
    "from sklearn.feature_extraction.text import TfidfTransformer\n",
    "from sklearn.feature_extraction.text import TfidfVectorizer\n",
    "from sklearn.feature_extraction.text import CountVectorizer\n",
    "from sklearn.metrics import confusion_matrix\n",
    "from sklearn import metrics\n",
    "from sklearn.metrics import roc_curve, auc\n",
    "from nltk.stem.porter import PorterStemmer\n",
    "import re\n",
    "# ==================================================================================================== #"
   ]
  },
  {
   "cell_type": "code",
   "execution_count": 4,
   "metadata": {},
   "outputs": [
    {
     "data": {
      "text/plain": [
       "(525814, 10)"
      ]
     },
     "execution_count": 4,
     "metadata": {},
     "output_type": "execute_result"
    }
   ],
   "source": [
    "# using the SQLite Table to read data.\n",
    "con = sqlite3.connect('C:/Users/Shobhit/Desktop/amazon-fine-food-reviews/database.sqlite')\n",
    "\n",
    "filtered_data = pd.read_sql_query(\"\"\"Select * from Reviews WHERE Score != 3\"\"\",con)\n",
    "\n",
    "filtered_data.shape"
   ]
  },
  {
   "cell_type": "code",
   "execution_count": 5,
   "metadata": {},
   "outputs": [],
   "source": [
    "# Assigning positive(4,5) and negative(1,2) to review Scores\n",
    "\n",
    "def posneg(x):\n",
    "    if x == 5 or x == 4:\n",
    "        return \"positive\"\n",
    "    return \"negative\"\n",
    "\n",
    "actScore = filtered_data['Score']\n",
    "pn = actScore.map(posneg)   #converting into 'positive' and 'negative'\n",
    "filtered_data['Score'] = pn"
   ]
  },
  {
   "cell_type": "code",
   "execution_count": 6,
   "metadata": {},
   "outputs": [],
   "source": [
    "final_pos = filtered_data[filtered_data['Score'] == 'positive']\n",
    "final_pos = final_pos.sample(frac=0.07,random_state=1)\n",
    "\n",
    "final_neg = filtered_data[filtered_data['Score'] == 'negative']\n",
    "final_neg = final_neg.sample(frac=0.3,random_state=1)\n",
    "\n",
    "final = pd.concat([final_pos,final_neg],axis=0)"
   ]
  },
  {
   "cell_type": "code",
   "execution_count": 7,
   "metadata": {},
   "outputs": [
    {
     "data": {
      "text/plain": [
       "(55675, 10)"
      ]
     },
     "execution_count": 7,
     "metadata": {},
     "output_type": "execute_result"
    }
   ],
   "source": [
    "final.shape"
   ]
  },
  {
   "cell_type": "code",
   "execution_count": 7,
   "metadata": {},
   "outputs": [
    {
     "data": {
      "text/plain": [
       "positive    31064\n",
       "negative    24611\n",
       "Name: Score, dtype: int64"
      ]
     },
     "execution_count": 7,
     "metadata": {},
     "output_type": "execute_result"
    }
   ],
   "source": [
    "final['Score'].value_counts()"
   ]
  },
  {
   "cell_type": "markdown",
   "metadata": {},
   "source": [
    "#### Observation(s):\n",
    "\n",
    "-- Sample is almost balanced.\n",
    "\n",
    "#### Note: Due to memory restrictions, I have taken a sample of 55k records"
   ]
  },
  {
   "cell_type": "code",
   "execution_count": 8,
   "metadata": {},
   "outputs": [
    {
     "name": "stdout",
     "output_type": "stream",
     "text": [
      "0\n",
      "It is all about the right mixture and the better way to brew a nice cup of coffee. We add lots of hot milk to it and make out own latte. This coffee is our espresso replacement and tastes so good! It is a coffee our European visitors really appreciate.<br />There are 2 reasons to prefer it over Starbucks, it is heck of a lot cheaper and it tastes at least as good (to me).\n"
     ]
    }
   ],
   "source": [
    "# find sentences containing HTML tags\n",
    "i=0;\n",
    "for sent in final['Text'].values:\n",
    "    if (len(re.findall('<.*?>', sent))):\n",
    "        print(i)\n",
    "        print(sent)\n",
    "        break;\n",
    "    i += 1;"
   ]
  },
  {
   "cell_type": "code",
   "execution_count": 9,
   "metadata": {},
   "outputs": [
    {
     "name": "stdout",
     "output_type": "stream",
     "text": [
      "{'during', 'most', 'below', 'itself', 'over', 'above', 'too', 'again', 'own', 'it', 'than', 'were', 'between', 'i', 'ours', 'why', \"shouldn't\", 'here', 'doesn', 'themselves', 'such', 'what', \"wasn't\", 'until', 'her', 'needn', 'once', 'd', \"haven't\", 'and', 'am', 'having', 'does', 's', 'in', 'of', 'are', 'which', \"won't\", 'down', \"mightn't\", \"she's\", 'me', 'as', 'doing', \"you'd\", 'so', 'wouldn', 'you', 'have', 'didn', 'with', 'has', 'not', 'isn', \"isn't\", 'more', 'they', 'hasn', 'for', 'further', 't', 'now', 'by', 'if', 'about', \"it's\", 'yours', 'against', 'will', \"mustn't\", 'all', 'we', 'its', 'whom', 'o', \"doesn't\", 'just', \"didn't\", 'up', 'hadn', 'shan', 'do', 'your', 'very', 'an', \"don't\", 'from', 'both', 'a', 'mightn', 'him', 'did', 'this', 'shouldn', \"you're\", 'to', \"needn't\", 'mustn', 'ain', 'while', 'll', 'few', 'myself', 'these', 'out', 'then', 'other', 'after', 'that', 'each', 'y', 'm', 'into', 'being', 'nor', 'through', 're', 'them', 'at', 'before', 'wasn', \"you'll\", 'or', 'off', 'ourselves', 'on', \"you've\", \"that'll\", 'can', 'there', 'no', 'their', 'yourself', 'when', \"aren't\", 'only', \"should've\", 've', 'ma', 'our', 'won', 'herself', 'but', 'she', 'don', \"hadn't\", 'who', 'was', \"couldn't\", 'had', 'he', 'my', 'should', \"hasn't\", 'himself', 'is', 'yourselves', 'weren', 'been', 'how', 'couldn', 'some', 'those', 'his', 'the', \"wouldn't\", \"weren't\", 'be', 'because', 'any', 'aren', \"shan't\", 'under', 'same', 'hers', 'theirs', 'haven', 'where'}\n"
     ]
    }
   ],
   "source": [
    "import string\n",
    "from nltk.corpus import stopwords\n",
    "from nltk.stem import PorterStemmer\n",
    "from nltk.stem.wordnet import WordNetLemmatizer\n",
    "\n",
    "stop = set(stopwords.words('english')) #set of stopwords\n",
    "sno = nltk.stem.SnowballStemmer('english') #initialising the snowball stemmer\n",
    "\n",
    "def cleanhtml(sentence): #function to clean the word of any html-tags\n",
    "    cleanr = re.compile('<.*?>')\n",
    "    cleantext = re.sub(cleanr, ' ', sentence)\n",
    "    return cleantext\n",
    "def cleanpunc(sentence): #function to clean the word of any punctuation or special characters\n",
    "    cleaned = re.sub(r'[?|!|\\'|\"|#]',r'',sentence)\n",
    "    cleaned = re.sub(r'[.|,|)|(|\\|/]',r' ',cleaned)\n",
    "    return  cleaned\n",
    "print(stop)"
   ]
  },
  {
   "cell_type": "code",
   "execution_count": 10,
   "metadata": {},
   "outputs": [],
   "source": [
    "#Code for implementing step-by-step the checks mentioned in the pre-processing phase\n",
    "# this code takes a while to run.\n",
    "i=0\n",
    "str1=' '\n",
    "final_string=[]\n",
    "all_positive_words=[] # store words from +ve reviews here\n",
    "all_negative_words=[] # store words from -ve reviews here.\n",
    "s=''\n",
    "for sent in final['Text'].values:\n",
    "    filtered_sentence=[]\n",
    "    #print(sent);\n",
    "    sent=cleanhtml(sent) # remove HTMl tags\n",
    "    for w in sent.split():\n",
    "        for cleaned_words in cleanpunc(w).split():\n",
    "            if((cleaned_words.isalpha()) & (len(cleaned_words)>2)):    \n",
    "                if(cleaned_words.lower() not in stop):\n",
    "                    s=(sno.stem(cleaned_words.lower())).encode('utf8')\n",
    "                    filtered_sentence.append(s)\n",
    "                    if (final['Score'].values)[i] == 'positive': \n",
    "                        all_positive_words.append(s) #list of all words used to describe positive reviews\n",
    "                    if(final['Score'].values)[i] == 'negative':\n",
    "                        all_negative_words.append(s) #list of all words used to describe negative reviews reviews\n",
    "                else:\n",
    "                    continue\n",
    "            else:\n",
    "                continue \n",
    "    #print(filtered_sentence)\n",
    "    str1 = b\" \".join(filtered_sentence) #final string of cleaned words\n",
    "    #print(\"***********************************************************************\")\n",
    "    \n",
    "    final_string.append(str1)\n",
    "    i+=1"
   ]
  },
  {
   "cell_type": "markdown",
   "metadata": {},
   "source": [
    "# 3) Sorting data based on time"
   ]
  },
  {
   "cell_type": "code",
   "execution_count": 11,
   "metadata": {},
   "outputs": [],
   "source": [
    "final = final.sort_values('Time',axis=0,kind=\"quicksort\", ascending=True).reset_index(drop=True)  #Sorting the data and resetting the index"
   ]
  },
  {
   "cell_type": "code",
   "execution_count": 13,
   "metadata": {},
   "outputs": [
    {
     "data": {
      "text/html": [
       "<div>\n",
       "<style scoped>\n",
       "    .dataframe tbody tr th:only-of-type {\n",
       "        vertical-align: middle;\n",
       "    }\n",
       "\n",
       "    .dataframe tbody tr th {\n",
       "        vertical-align: top;\n",
       "    }\n",
       "\n",
       "    .dataframe thead th {\n",
       "        text-align: right;\n",
       "    }\n",
       "</style>\n",
       "<table border=\"1\" class=\"dataframe\">\n",
       "  <thead>\n",
       "    <tr style=\"text-align: right;\">\n",
       "      <th></th>\n",
       "      <th>Id</th>\n",
       "      <th>ProductId</th>\n",
       "      <th>UserId</th>\n",
       "      <th>ProfileName</th>\n",
       "      <th>HelpfulnessNumerator</th>\n",
       "      <th>HelpfulnessDenominator</th>\n",
       "      <th>Score</th>\n",
       "      <th>Time</th>\n",
       "      <th>Summary</th>\n",
       "      <th>Text</th>\n",
       "    </tr>\n",
       "  </thead>\n",
       "  <tbody>\n",
       "    <tr>\n",
       "      <th>0</th>\n",
       "      <td>451864</td>\n",
       "      <td>B00004CXX9</td>\n",
       "      <td>A1B2IZU1JLZA6</td>\n",
       "      <td>Wes</td>\n",
       "      <td>19</td>\n",
       "      <td>23</td>\n",
       "      <td>negative</td>\n",
       "      <td>948240000</td>\n",
       "      <td>WARNING: CLAMSHELL EDITION IS EDITED TV VERSION</td>\n",
       "      <td>I, myself always enjoyed this movie, it's very...</td>\n",
       "    </tr>\n",
       "    <tr>\n",
       "      <th>1</th>\n",
       "      <td>1244</td>\n",
       "      <td>B00002Z754</td>\n",
       "      <td>A3B8RCEI0FXFI6</td>\n",
       "      <td>B G Chase</td>\n",
       "      <td>10</td>\n",
       "      <td>10</td>\n",
       "      <td>positive</td>\n",
       "      <td>962236800</td>\n",
       "      <td>WOW Make your own 'slickers' !</td>\n",
       "      <td>I just received my shipment and could hardly w...</td>\n",
       "    </tr>\n",
       "    <tr>\n",
       "      <th>2</th>\n",
       "      <td>149789</td>\n",
       "      <td>B00004S1C6</td>\n",
       "      <td>A1KXONFPU2XQ5K</td>\n",
       "      <td>Stephanie Manley</td>\n",
       "      <td>26</td>\n",
       "      <td>28</td>\n",
       "      <td>positive</td>\n",
       "      <td>965779200</td>\n",
       "      <td>A must have!</td>\n",
       "      <td>These are easy to use, they do not make a mess...</td>\n",
       "    </tr>\n",
       "    <tr>\n",
       "      <th>3</th>\n",
       "      <td>451935</td>\n",
       "      <td>B00004CXX9</td>\n",
       "      <td>A1GB1Q193DNFGR</td>\n",
       "      <td>Bruce Lee Pullen</td>\n",
       "      <td>5</td>\n",
       "      <td>5</td>\n",
       "      <td>positive</td>\n",
       "      <td>970531200</td>\n",
       "      <td>Fabulous Comedic Fanasy Directed by a Master</td>\n",
       "      <td>Beetlejuice is an awe-inspiring wonderfully am...</td>\n",
       "    </tr>\n",
       "    <tr>\n",
       "      <th>4</th>\n",
       "      <td>230284</td>\n",
       "      <td>B00004RYGX</td>\n",
       "      <td>A1HWMNSQF14MP8</td>\n",
       "      <td>will@socialaw.com</td>\n",
       "      <td>1</td>\n",
       "      <td>2</td>\n",
       "      <td>positive</td>\n",
       "      <td>978134400</td>\n",
       "      <td>A Afterlife Success</td>\n",
       "      <td>Many movies, have dealt with the figure of dea...</td>\n",
       "    </tr>\n",
       "  </tbody>\n",
       "</table>\n",
       "</div>"
      ],
      "text/plain": [
       "       Id   ProductId          UserId        ProfileName  \\\n",
       "0  451864  B00004CXX9   A1B2IZU1JLZA6                Wes   \n",
       "1    1244  B00002Z754  A3B8RCEI0FXFI6          B G Chase   \n",
       "2  149789  B00004S1C6  A1KXONFPU2XQ5K   Stephanie Manley   \n",
       "3  451935  B00004CXX9  A1GB1Q193DNFGR   Bruce Lee Pullen   \n",
       "4  230284  B00004RYGX  A1HWMNSQF14MP8  will@socialaw.com   \n",
       "\n",
       "   HelpfulnessNumerator  HelpfulnessDenominator     Score       Time  \\\n",
       "0                    19                      23  negative  948240000   \n",
       "1                    10                      10  positive  962236800   \n",
       "2                    26                      28  positive  965779200   \n",
       "3                     5                       5  positive  970531200   \n",
       "4                     1                       2  positive  978134400   \n",
       "\n",
       "                                           Summary  \\\n",
       "0  WARNING: CLAMSHELL EDITION IS EDITED TV VERSION   \n",
       "1                   WOW Make your own 'slickers' !   \n",
       "2                                     A must have!   \n",
       "3     Fabulous Comedic Fanasy Directed by a Master   \n",
       "4                              A Afterlife Success   \n",
       "\n",
       "                                                Text  \n",
       "0  I, myself always enjoyed this movie, it's very...  \n",
       "1  I just received my shipment and could hardly w...  \n",
       "2  These are easy to use, they do not make a mess...  \n",
       "3  Beetlejuice is an awe-inspiring wonderfully am...  \n",
       "4  Many movies, have dealt with the figure of dea...  "
      ]
     },
     "execution_count": 13,
     "metadata": {},
     "output_type": "execute_result"
    }
   ],
   "source": [
    "final.head()"
   ]
  },
  {
   "cell_type": "markdown",
   "metadata": {},
   "source": [
    "#### Observation(s):\n",
    "\n",
    "-- Stopwords are removed.\n",
    "\n",
    "-- Special characters and HTML tags are removed\n",
    "\n",
    "-- Stemming is done using Snowball Stemmer.\n",
    "\n",
    "-- Words are converted to lowercase.\n",
    "\n",
    "-- Sample is sorted on the basis of timestamp in ascending order."
   ]
  },
  {
   "cell_type": "markdown",
   "metadata": {},
   "source": [
    "# 4) Splitting the cleaned data into Train and Test"
   ]
  },
  {
   "cell_type": "code",
   "execution_count": 12,
   "metadata": {},
   "outputs": [],
   "source": [
    "#Splitting data into Train and test - 70% Train, 30 % test\n",
    "import math\n",
    "\n",
    "X = final\n",
    "y = final['Score']\n",
    "\n",
    "X_train =  final[:math.ceil(len(final)*.7)] \n",
    "X_test = final[math.ceil(len(final)*.7):]\n",
    "y_train = y[:math.ceil(len(final)*.7)]\n",
    "y_test =  y[math.ceil(len(final)*.7):]"
   ]
  },
  {
   "cell_type": "code",
   "execution_count": 13,
   "metadata": {},
   "outputs": [
    {
     "name": "stdout",
     "output_type": "stream",
     "text": [
      "(38973, 10)\n",
      "(16702, 10)\n",
      "(38973,)\n",
      "(16702,)\n"
     ]
    }
   ],
   "source": [
    "print(X_train.shape)\n",
    "print(X_test.shape)\n",
    "print(y_train.shape)\n",
    "print(y_test.shape)"
   ]
  },
  {
   "cell_type": "markdown",
   "metadata": {},
   "source": [
    "### 5 fold CV "
   ]
  },
  {
   "cell_type": "code",
   "execution_count": 16,
   "metadata": {},
   "outputs": [],
   "source": [
    "def find_optimal_k(X_train,y_train):\n",
    "    # creating odd list of K for KNN\n",
    "    myList = list(range(0,50))\n",
    "    neighbors = list(filter(lambda x: x % 2 != 0, myList))\n",
    "\n",
    "    # empty list that will hold cv scores\n",
    "    cv_scores = []\n",
    "\n",
    "    # perform 5-fold cross validation\n",
    "    for k in neighbors:\n",
    "        knn = KNeighborsClassifier(n_neighbors=k)\n",
    "        scores = cross_val_score(knn, X_train, y_train, cv=5, scoring='accuracy')\n",
    "        cv_scores.append(scores.mean())\n",
    "\n",
    "    # changing to misclassification error\n",
    "    MSE = [1 - x for x in cv_scores]\n",
    "\n",
    "    # determining best k\n",
    "    optimal_k = neighbors[MSE.index(min(MSE))]\n",
    "    print('\\nThe optimal number of neighbors is %d.' % optimal_k)\n",
    "\n",
    "    # plot misclassification error vs k \n",
    "    plt.figure(figsize=(10,6))\n",
    "    plt.plot(list(filter(lambda x: x % 2 != 0, myList)),MSE,color='blue', linestyle='dashed', marker='o',\n",
    "             markerfacecolor='red', markersize=10)\n",
    "    plt.title('Error Rate vs. K Value')\n",
    "    plt.xlabel('K')\n",
    "    plt.ylabel('Error Rate')\n",
    "\n",
    "\n",
    "    print(\"the misclassification error for each k value is : \", np.round(MSE,3))\n",
    "    \n",
    "    return optimal_k"
   ]
  },
  {
   "cell_type": "markdown",
   "metadata": {},
   "source": [
    "# 5) Vectorization and Model Building"
   ]
  },
  {
   "cell_type": "markdown",
   "metadata": {},
   "source": [
    "## 5.1) KNN with BOW "
   ]
  },
  {
   "cell_type": "code",
   "execution_count": 17,
   "metadata": {},
   "outputs": [],
   "source": [
    "#BoW\n",
    "count_vect = CountVectorizer() #in scikit-learn\n",
    "X_train_counts = count_vect.fit_transform(X_train['Text'].values)\n",
    "X_test_counts = count_vect.transform(X_test['Text'].values)"
   ]
  },
  {
   "cell_type": "code",
   "execution_count": 18,
   "metadata": {},
   "outputs": [
    {
     "name": "stdout",
     "output_type": "stream",
     "text": [
      "(38973, 37043)\n",
      "(16702, 37043)\n"
     ]
    }
   ],
   "source": [
    "print(X_train_counts.shape)\n",
    "print(X_test_counts.shape)"
   ]
  },
  {
   "cell_type": "code",
   "execution_count": 19,
   "metadata": {},
   "outputs": [
    {
     "name": "stdout",
     "output_type": "stream",
     "text": [
      "\n",
      "The optimal number of neighbors is 9.\n",
      "the misclassification error for each k value is :  [0.352 0.341 0.34  0.339 0.333 0.333 0.333 0.333 0.333 0.333 0.333 0.335\n",
      " 0.335 0.335 0.333 0.334 0.334 0.337 0.337 0.34  0.34  0.341 0.341 0.341\n",
      " 0.341]\n"
     ]
    },
    {
     "data": {
      "image/png": "[encoded data removed]",
      "text/plain": [
       "<matplotlib.figure.Figure at 0x1da1a138198>"
      ]
     },
     "metadata": {},
     "output_type": "display_data"
    }
   ],
   "source": [
    "optimal_k = find_optimal_k(X_train_counts ,y_train)"
   ]
  },
  {
   "cell_type": "code",
   "execution_count": 20,
   "metadata": {},
   "outputs": [
    {
     "name": "stdout",
     "output_type": "stream",
     "text": [
      "\n",
      "The accuracy of the knn classifier for k = 9 is 64.782661%\n"
     ]
    }
   ],
   "source": [
    "# ============================== KNN with k = optimal_k ===============================================\n",
    "# instantiate learning model k = optimal_k\n",
    "knn_optimal = KNeighborsClassifier(n_neighbors=optimal_k)\n",
    "\n",
    "# fitting the model\n",
    "knn_optimal.fit(X_train_counts, y_train)\n",
    "\n",
    "# predict the response\n",
    "pred = knn_optimal.predict(X_test_counts)\n",
    "\n",
    "# evaluate accuracy\n",
    "acc = accuracy_score(y_test, pred) * 100\n",
    "print('\\nThe accuracy of the knn classifier for k = %d is %f%%' % (optimal_k, acc))"
   ]
  },
  {
   "cell_type": "code",
   "execution_count": 21,
   "metadata": {},
   "outputs": [
    {
     "data": {
      "text/plain": [
       "<matplotlib.axes._subplots.AxesSubplot at 0x1da3f638e80>"
      ]
     },
     "execution_count": 21,
     "metadata": {},
     "output_type": "execute_result"
    },
    {
     "data": {
      "image/png": "[encoded data removed]",
      "text/plain": [
       "<matplotlib.figure.Figure at 0x1da39311e80>"
      ]
     },
     "metadata": {},
     "output_type": "display_data"
    }
   ],
   "source": [
    "import scikitplot.metrics as skplt\n",
    "from sklearn.metrics import classification_report,confusion_matrix, accuracy_score\n",
    "skplt.plot_confusion_matrix(y_test ,pred)"
   ]
  },
  {
   "cell_type": "code",
   "execution_count": 22,
   "metadata": {},
   "outputs": [
    {
     "name": "stdout",
     "output_type": "stream",
     "text": [
      "             precision    recall  f1-score   support\n",
      "\n",
      "   negative       0.73      0.40      0.51      7828\n",
      "   positive       0.62      0.87      0.72      8874\n",
      "\n",
      "avg / total       0.67      0.65      0.63     16702\n",
      "\n"
     ]
    }
   ],
   "source": [
    "print(classification_report(y_test ,pred))"
   ]
  },
  {
   "cell_type": "markdown",
   "metadata": {},
   "source": [
    "#### Observations(s):\n",
    "\n",
    "-- Train data is fitted and transformed over the vectorizer.\n",
    "\n",
    "-- Test data is transformed accordingly.\n",
    "\n",
    "-- Error rate is lowest when K = 9. Hence, 9 is the optimal K.\n",
    "\n",
    "-- Using BOW as the vectorizer and K = 9, we get an accuracy of ~ 64%.\n",
    "\n",
    "-- From the confusion matrix, we infer that out of 16,702 data points in our test data set, 10,820 are classified correctly."
   ]
  },
  {
   "cell_type": "markdown",
   "metadata": {},
   "source": [
    "## 5.2) KNN with TF-IDF"
   ]
  },
  {
   "cell_type": "code",
   "execution_count": 23,
   "metadata": {},
   "outputs": [],
   "source": [
    "tf_idf_vect = TfidfVectorizer(ngram_range=(1,2))\n",
    "X_train_tfidf = tf_idf_vect.fit_transform(X_train['Text'].values)\n",
    "X_test_tfidf = tf_idf_vect.transform(X_test['Text'].values)"
   ]
  },
  {
   "cell_type": "code",
   "execution_count": 24,
   "metadata": {},
   "outputs": [
    {
     "name": "stdout",
     "output_type": "stream",
     "text": [
      "(38973, 635807)\n",
      "(16702, 635807)\n"
     ]
    }
   ],
   "source": [
    "print(X_train_tfidf.shape)\n",
    "print(X_test_tfidf.shape)"
   ]
  },
  {
   "cell_type": "code",
   "execution_count": 25,
   "metadata": {},
   "outputs": [
    {
     "name": "stdout",
     "output_type": "stream",
     "text": [
      "\n",
      "The optimal number of neighbors is 45.\n",
      "the misclassification error for each k value is :  [0.307 0.283 0.271 0.263 0.256 0.252 0.248 0.242 0.241 0.234 0.233 0.231\n",
      " 0.228 0.226 0.225 0.226 0.224 0.224 0.221 0.221 0.218 0.219 0.218 0.219\n",
      " 0.218]\n"
     ]
    },
    {
     "data": {
      "image/png": "[encoded data removed]",
      "text/plain": [
       "<matplotlib.figure.Figure at 0x1da4ab4e198>"
      ]
     },
     "metadata": {},
     "output_type": "display_data"
    }
   ],
   "source": [
    "optimal_k = find_optimal_k(X_train_tfidf ,y_train)"
   ]
  },
  {
   "cell_type": "code",
   "execution_count": 26,
   "metadata": {},
   "outputs": [
    {
     "name": "stdout",
     "output_type": "stream",
     "text": [
      "\n",
      "The accuracy of the knn classifier for k = 45 is 77.793079%\n"
     ]
    }
   ],
   "source": [
    "# ============================== KNN with k = optimal_k ===============================================\n",
    "# instantiate learning model k = optimal_k\n",
    "knn_optimal = KNeighborsClassifier(n_neighbors=optimal_k)\n",
    "\n",
    "# fitting the model\n",
    "knn_optimal.fit(X_train_tfidf, y_train)\n",
    "\n",
    "# predict the response\n",
    "pred = knn_optimal.predict(X_test_tfidf)\n",
    "\n",
    "# evaluate accuracy\n",
    "acc = accuracy_score(y_test, pred) * 100\n",
    "print('\\nThe accuracy of the knn classifier for k = %d is %f%%' % (optimal_k, acc))"
   ]
  },
  {
   "cell_type": "code",
   "execution_count": 27,
   "metadata": {},
   "outputs": [
    {
     "data": {
      "text/plain": [
       "<matplotlib.axes._subplots.AxesSubplot at 0x1da4d4651d0>"
      ]
     },
     "execution_count": 27,
     "metadata": {},
     "output_type": "execute_result"
    },
    {
     "data": {
      "image/png": "[encoded data removed]",
      "text/plain": [
       "<matplotlib.figure.Figure at 0x1da3c1dc898>"
      ]
     },
     "metadata": {},
     "output_type": "display_data"
    }
   ],
   "source": [
    "skplt.plot_confusion_matrix(y_test ,pred)  #Plotting confusion matrix"
   ]
  },
  {
   "cell_type": "code",
   "execution_count": 28,
   "metadata": {},
   "outputs": [
    {
     "name": "stdout",
     "output_type": "stream",
     "text": [
      "             precision    recall  f1-score   support\n",
      "\n",
      "   negative       0.79      0.72      0.75      7828\n",
      "   positive       0.77      0.83      0.80      8874\n",
      "\n",
      "avg / total       0.78      0.78      0.78     16702\n",
      "\n"
     ]
    }
   ],
   "source": [
    "print(classification_report(y_test ,pred))"
   ]
  },
  {
   "cell_type": "markdown",
   "metadata": {},
   "source": [
    "#### Observations(s):\n",
    "\n",
    "-- Train data is fitted and transformed over the vectorizer.\n",
    "\n",
    "-- Test data is transformed accordingly.\n",
    "\n",
    "-- Error rate is lowest when K = 45. Hence, 45 is the optimal K.\n",
    "\n",
    "-- Using BOW as the vectorizer and K = 45, we get an accuracy of ~ 78%.\n",
    "\n",
    "-- From the confusion matrix, we infer that out of 16,702 data points in our test data set, 12,993 are classified correctly."
   ]
  },
  {
   "cell_type": "markdown",
   "metadata": {},
   "source": [
    "## 5.3) KNN with Average Word2Vec"
   ]
  },
  {
   "cell_type": "code",
   "execution_count": 29,
   "metadata": {},
   "outputs": [
    {
     "name": "stderr",
     "output_type": "stream",
     "text": [
      "C:\\Users\\Shobhit\\Anaconda3\\lib\\site-packages\\gensim\\utils.py:1209: UserWarning: detected Windows; aliasing chunkize to chunkize_serial\n",
      "  warnings.warn(\"detected Windows; aliasing chunkize to chunkize_serial\")\n"
     ]
    }
   ],
   "source": [
    "# Train your own Word2Vec model using your own text corpus - Train dataset\n",
    "import gensim\n",
    "from gensim.models import Word2Vec\n",
    "from gensim.models import KeyedVectors\n",
    "i=0\n",
    "list_of_sent=[]\n",
    "for sent in X_train['Text'].values:\n",
    "    filtered_sentence=[]\n",
    "    sent=cleanhtml(sent)\n",
    "    for w in sent.split():\n",
    "        for cleaned_words in cleanpunc(w).split():\n",
    "            if(cleaned_words.isalpha()):    \n",
    "                filtered_sentence.append(cleaned_words.lower())\n",
    "            else:\n",
    "                continue \n",
    "    list_of_sent.append(filtered_sentence)"
   ]
  },
  {
   "cell_type": "code",
   "execution_count": 30,
   "metadata": {},
   "outputs": [],
   "source": [
    "# Train your own Word2Vec model using your own text corpus - Test dataset\n",
    "import gensim\n",
    "from gensim.models import Word2Vec\n",
    "from gensim.models import KeyedVectors\n",
    "i=0\n",
    "list_of_sent_t=[]\n",
    "for sent in X_test['Text'].values:\n",
    "    filtered_sentence=[]\n",
    "    sent=cleanhtml(sent)\n",
    "    for w in sent.split():\n",
    "        for cleaned_words in cleanpunc(w).split():\n",
    "            if(cleaned_words.isalpha()):    \n",
    "                filtered_sentence.append(cleaned_words.lower())\n",
    "            else:\n",
    "                continue \n",
    "    list_of_sent_t.append(filtered_sentence)"
   ]
  },
  {
   "cell_type": "code",
   "execution_count": 31,
   "metadata": {},
   "outputs": [],
   "source": [
    "w2v_model=gensim.models.Word2Vec(list_of_sent,min_count=5,size=50, workers=4)\n",
    "\n",
    "w2v_model_t=gensim.models.Word2Vec(list_of_sent_t,min_count=5,size=50, workers=4)"
   ]
  },
  {
   "cell_type": "code",
   "execution_count": 32,
   "metadata": {},
   "outputs": [],
   "source": [
    "# Performing Average W2V for Train data\n",
    "\n",
    "sent_vectors = []; \n",
    "for sent in list_of_sent: \n",
    "    sent_vec = np.zeros(50)\n",
    "    cnt_words =0; \n",
    "    for word in sent: \n",
    "        try:\n",
    "            vec = w2v_model.wv[word]\n",
    "            sent_vec += vec\n",
    "            cnt_words += 1\n",
    "        except:\n",
    "            pass\n",
    "    sent_vec /= cnt_words\n",
    "    sent_vectors.append(sent_vec)"
   ]
  },
  {
   "cell_type": "code",
   "execution_count": 33,
   "metadata": {},
   "outputs": [],
   "source": [
    "# Performing Average W2V for Test data\n",
    "\n",
    "sent_vectors_t = []; \n",
    "for sent in list_of_sent_t: \n",
    "    sent_vec = np.zeros(50)\n",
    "    cnt_words =0; \n",
    "    for word in sent: \n",
    "        try:\n",
    "            vec = w2v_model_t.wv[word]\n",
    "            sent_vec += vec\n",
    "            cnt_words += 1\n",
    "        except:\n",
    "            pass\n",
    "    sent_vec /= cnt_words\n",
    "    sent_vectors_t.append(sent_vec)"
   ]
  },
  {
   "cell_type": "code",
   "execution_count": 34,
   "metadata": {},
   "outputs": [],
   "source": [
    "from sklearn.preprocessing import StandardScaler\n",
    "\n",
    "k = StandardScaler()\n",
    "final_w2v_train = k.fit_transform(sent_vectors)\n",
    "final_w2v_test = k.transform(sent_vectors_t)"
   ]
  },
  {
   "cell_type": "code",
   "execution_count": 35,
   "metadata": {},
   "outputs": [
    {
     "name": "stdout",
     "output_type": "stream",
     "text": [
      "\n",
      "The optimal number of neighbors is 45.\n",
      "the misclassification error for each k value is :  [0.288 0.26  0.245 0.237 0.232 0.228 0.225 0.222 0.218 0.218 0.214 0.214\n",
      " 0.215 0.214 0.212 0.212 0.212 0.211 0.21  0.211 0.21  0.21  0.209 0.209\n",
      " 0.209]\n"
     ]
    },
    {
     "data": {
      "image/png": "[encoded data removed]",
      "text/plain": [
       "<matplotlib.figure.Figure at 0x1da4d8c1550>"
      ]
     },
     "metadata": {},
     "output_type": "display_data"
    }
   ],
   "source": [
    "optimal_k = find_optimal_k(final_w2v_train ,y_train)"
   ]
  },
  {
   "cell_type": "code",
   "execution_count": 36,
   "metadata": {},
   "outputs": [
    {
     "name": "stdout",
     "output_type": "stream",
     "text": [
      "\n",
      "The accuracy of the knn classifier for k = 45 is 66.620764%\n"
     ]
    }
   ],
   "source": [
    "# ============================== KNN with k = optimal_k ===============================================\n",
    "# instantiate learning model k = optimal_k\n",
    "knn_optimal = KNeighborsClassifier(n_neighbors=optimal_k)\n",
    "\n",
    "# fitting the model\n",
    "knn_optimal.fit(final_w2v_train, y_train)\n",
    "\n",
    "# predict the response\n",
    "pred = knn_optimal.predict(final_w2v_test)\n",
    "\n",
    "# evaluate accuracy\n",
    "acc = accuracy_score(y_test, pred) * 100\n",
    "print('\\nThe accuracy of the knn classifier for k = %d is %f%%' % (optimal_k, acc))"
   ]
  },
  {
   "cell_type": "code",
   "execution_count": 37,
   "metadata": {},
   "outputs": [
    {
     "data": {
      "text/plain": [
       "<matplotlib.axes._subplots.AxesSubplot at 0x1da64b23630>"
      ]
     },
     "execution_count": 37,
     "metadata": {},
     "output_type": "execute_result"
    },
    {
     "data": {
      "image/png": "[encoded data removed]",
      "text/plain": [
       "<matplotlib.figure.Figure at 0x1da661bbd68>"
      ]
     },
     "metadata": {},
     "output_type": "display_data"
    }
   ],
   "source": [
    "skplt.plot_confusion_matrix(y_test ,pred)  #Plotting confusion matrix"
   ]
  },
  {
   "cell_type": "code",
   "execution_count": 38,
   "metadata": {},
   "outputs": [
    {
     "name": "stdout",
     "output_type": "stream",
     "text": [
      "             precision    recall  f1-score   support\n",
      "\n",
      "   negative       0.68      0.54      0.60      7828\n",
      "   positive       0.66      0.78      0.71      8874\n",
      "\n",
      "avg / total       0.67      0.67      0.66     16702\n",
      "\n"
     ]
    }
   ],
   "source": [
    "print(classification_report(y_test ,pred))"
   ]
  },
  {
   "cell_type": "markdown",
   "metadata": {},
   "source": [
    "#### Observations(s):\n",
    "\n",
    "-- Train data is fitted and transformed over the vectorizer.\n",
    "\n",
    "-- Test data is transformed accordingly.\n",
    "\n",
    "-- Error rate is lowest when K = 45. Hence, 45 is the optimal K.\n",
    "\n",
    "-- Using BOW as the vectorizer and K = 45, we get an accuracy of ~ 66%.\n",
    "\n",
    "-- From the confusion matrix, we infer that out of 16,702 data points in our test data set, 11,127 are classified correctly."
   ]
  },
  {
   "cell_type": "markdown",
   "metadata": {},
   "source": [
    "## 5.4) KNN with TF-IDF Word2Vec"
   ]
  },
  {
   "cell_type": "code",
   "execution_count": 39,
   "metadata": {},
   "outputs": [],
   "source": [
    "# TF-IDF weighted Word2Vec\n",
    "tfidf_feat = tf_idf_vect.get_feature_names() # tfidf words/col-names\n",
    "# final_tf_idf is the sparse matrix with row= sentence, col=word and cell_val = tfidf\n",
    "\n",
    "tfidf_sent_vectors = []; # the tfidf-w2v for each sentence/review is stored in this list\n",
    "row=0;\n",
    "for sent in list_of_sent: # for each review/sentence\n",
    "    sent_vec = np.zeros(50) # as word vectors are of zero length\n",
    "    weight_sum =0; # num of words with a valid vector in the sentence/review\n",
    "    for word in sent: # for each word in a review/sentence\n",
    "        try:\n",
    "            vec = w2v_model.wv[word]\n",
    "            # obtain the tf_idfidf of a word in a sentence/review\n",
    "            tfidf = X_train_tfidf[row, tfidf_feat.index(word)]\n",
    "            sent_vec += (vec * tfidf)\n",
    "            weight_sum += tfidf\n",
    "        except:\n",
    "            pass\n",
    "    sent_vec /= weight_sum\n",
    "    tfidf_sent_vectors.append(sent_vec)\n",
    "    row += 1"
   ]
  },
  {
   "cell_type": "code",
   "execution_count": 40,
   "metadata": {},
   "outputs": [],
   "source": [
    "# TF-IDF weighted Word2Vec\n",
    "tfidf_feat = tf_idf_vect.get_feature_names() # tfidf words/col-names\n",
    "# final_tf_idf is the sparse matrix with row= sentence, col=word and cell_val = tfidf\n",
    "\n",
    "tfidf_sent_vectors_t = []; # the tfidf-w2v for each sentence/review is stored in this list\n",
    "row=0;\n",
    "for sent in list_of_sent_t: # for each review/sentence\n",
    "    sent_vec = np.zeros(50) # as word vectors are of zero length\n",
    "    weight_sum =0; # num of words with a valid vector in the sentence/review\n",
    "    for word in sent: # for each word in a review/sentence\n",
    "        try:\n",
    "            vec = w2v_model_t.wv[word]\n",
    "            # obtain the tf_idfidf of a word in a sentence/review\n",
    "            tfidf = X_test_tfidf[row, tfidf_feat.index(word)]\n",
    "            sent_vec += (vec * tfidf)\n",
    "            weight_sum += tfidf\n",
    "        except:\n",
    "            pass\n",
    "    sent_vec /= weight_sum\n",
    "    tfidf_sent_vectors_t.append(sent_vec)\n",
    "    row += 1"
   ]
  },
  {
   "cell_type": "code",
   "execution_count": 44,
   "metadata": {},
   "outputs": [],
   "source": [
    "final_tf_train = StandardScaler().fit_transform(tfidf_sent_vectors)\n",
    "final_tf_test = StandardScaler().transform(tfidf_sent_vectors_t)"
   ]
  },
  {
   "cell_type": "code",
   "execution_count": 45,
   "metadata": {},
   "outputs": [
    {
     "name": "stdout",
     "output_type": "stream",
     "text": [
      "\n",
      "The optimal number of neighbors is 45.\n",
      "the misclassification error for each k value is :  [0.312 0.285 0.27  0.262 0.26  0.255 0.249 0.244 0.243 0.242 0.241 0.24\n",
      " 0.239 0.237 0.237 0.235 0.235 0.234 0.233 0.232 0.231 0.231 0.231 0.231\n",
      " 0.231]\n"
     ]
    },
    {
     "data": {
      "image/png": "[encoded data removed]",
      "text/plain": [
       "<matplotlib.figure.Figure at 0x1da661c6128>"
      ]
     },
     "metadata": {},
     "output_type": "display_data"
    }
   ],
   "source": [
    "optimal_k = find_optimal_k(final_tf_train ,y_train)"
   ]
  },
  {
   "cell_type": "code",
   "execution_count": 46,
   "metadata": {},
   "outputs": [
    {
     "name": "stdout",
     "output_type": "stream",
     "text": [
      "\n",
      "The accuracy of the knn classifier using brute for k = 45 is 70.003592%\n"
     ]
    }
   ],
   "source": [
    "# ============================== KNN with k = optimal_k ===============================================\n",
    "# instantiate learning model k = optimal_k\n",
    "knn_optimal = KNeighborsClassifier(n_neighbors=optimal_k, algorithm='brute')\n",
    "\n",
    "# fitting the model\n",
    "knn_optimal.fit(final_tf_train, y_train)\n",
    "\n",
    "# predict the response\n",
    "pred = knn_optimal.predict(final_tf_test)\n",
    "\n",
    "# evaluate accuracy\n",
    "acc = accuracy_score(y_test, pred) * 100\n",
    "print('\\nThe accuracy of the knn classifier using brute for k = %d is %f%%' % (optimal_k, acc))"
   ]
  },
  {
   "cell_type": "code",
   "execution_count": 47,
   "metadata": {},
   "outputs": [
    {
     "data": {
      "text/plain": [
       "<matplotlib.axes._subplots.AxesSubplot at 0x1da4304cf60>"
      ]
     },
     "execution_count": 47,
     "metadata": {},
     "output_type": "execute_result"
    },
    {
     "data": {
      "image/png": "[encoded data removed]",
      "text/plain": [
       "<matplotlib.figure.Figure at 0x1da520b7eb8>"
      ]
     },
     "metadata": {},
     "output_type": "display_data"
    }
   ],
   "source": [
    "skplt.plot_confusion_matrix(y_test ,pred)  #Plotting confusion matrix"
   ]
  },
  {
   "cell_type": "code",
   "execution_count": 48,
   "metadata": {},
   "outputs": [
    {
     "name": "stdout",
     "output_type": "stream",
     "text": [
      "             precision    recall  f1-score   support\n",
      "\n",
      "   negative       0.72      0.58      0.64      7828\n",
      "   positive       0.69      0.80      0.74      8874\n",
      "\n",
      "avg / total       0.70      0.70      0.70     16702\n",
      "\n"
     ]
    }
   ],
   "source": [
    "print(classification_report(y_test ,pred))"
   ]
  },
  {
   "cell_type": "markdown",
   "metadata": {},
   "source": [
    "#### Observations(s):\n",
    "\n",
    "-- Train data is fitted and transformed over the vectorizer.\n",
    "\n",
    "-- Test data is transformed accordingly.\n",
    "\n",
    "-- Error rate is lowest when K = 45. Hence, 45 is the optimal K.\n",
    "\n",
    "-- Using BOW as the vectorizer and K = 45, we get an accuracy of ~ 70%.\n",
    "\n",
    "-- From the confusion matrix, we infer that out of 16,702 data points in our test data set, 11,692 are classified correctly."
   ]
  },
  {
   "cell_type": "markdown",
   "metadata": {},
   "source": [
    "# Conclusion(s) / Summary:\n",
    "\n",
    "### Overall flow:\n",
    "\n",
    "####  1) Importing required libraries. \n",
    "\n",
    "#### 2) Connect with SQL database, get the +ve and -ve data and store it in a dataframe. \n",
    "\n",
    "#### 3)  Sample it so as to get a balanced data set. \n",
    "\n",
    "#### 4) Apply pre-processing techniques to clean and standardize. \n",
    "\n",
    "#### 5) Sort it according to timestamp. \n",
    "\n",
    "#### 6) Perform time based splitting into train and test in the ratio 70:30. \n",
    "\n",
    "#### 7) Apply all four vectorizer methods (BOW, TF-IDF, Avg Word2vec and TF-IDF Word2Vec) to convert text into vectors.\n",
    "\n",
    "#### 8) For each vectorizer method, we find the optimal K value and train our model using that value.\n",
    "\n",
    "#### 9) Perform prediction on test data.\n",
    "\n",
    "#### 10) Get Error graph, Confusion matrix and classification report.\n",
    "\n",
    "### Others:\n",
    "\n",
    "#### a) Out of all 4 vectorizers, KNN performs best on TF-IDF with an accuracy of 78%.\n",
    "\n",
    "#### b) Confusion matrix gives us an easy interpretation of how well our model predicted class labels.\n",
    "\n",
    "#### c) Conclusion table:\n",
    "\n",
    "| Model | Best K | Total +ve points | Total -ve points | Predicted +ve points | Predicted -ve points | Accuracy |\n",
    "|-------|--------|--------------|-------------|-------------|------------|\n",
    "|   BOW | 9| 8874 | 7828 | 7703 | 3117 | 0.64 |\n",
    "|   TF-IDF | 45 | 8874 | 7828 | 7391 | 5602 | 0.78\n",
    "|   Avg W2V | 45 | 8874 | 7828 | 6919 | 4208 | 0.67\n",
    "| TF-IDF W2V | 45 | 8874 | 7828 | 7141 | 4551 | 0.70"
   ]
  },
  {
   "cell_type": "code",
   "execution_count": null,
   "metadata": {},
   "outputs": [],
   "source": []
  }
 ],
 "metadata": {
  "kernelspec": {
   "display_name": "Python 3",
   "language": "python",
   "name": "python3"
  },
  "language_info": {
   "codemirror_mode": {
    "name": "ipython",
    "version": 3
   },
   "file_extension": ".py",
   "mimetype": "text/x-python",
   "name": "python",
   "nbconvert_exporter": "python",
   "pygments_lexer": "ipython3",
   "version": "3.6.6"
  },
  "varInspector": {
   "cols": {
    "lenName": 16,
    "lenType": 16,
    "lenVar": 40
   },
   "kernels_config": {
    "python": {
     "delete_cmd_postfix": "",
     "delete_cmd_prefix": "del ",
     "library": "var_list.py",
     "varRefreshCmd": "print(var_dic_list())"
    },
    "r": {
     "delete_cmd_postfix": ") ",
     "delete_cmd_prefix": "rm(",
     "library": "var_list.r",
     "varRefreshCmd": "cat(var_dic_list()) "
    }
   },
   "types_to_exclude": [
    "module",
    "function",
    "builtin_function_or_method",
    "instance",
    "_Feature"
   ],
   "window_display": false
  }
 },
 "nbformat": 4,
 "nbformat_minor": 2
}
